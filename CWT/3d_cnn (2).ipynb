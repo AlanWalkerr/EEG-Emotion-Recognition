{
  "nbformat": 4,
  "nbformat_minor": 0,
  "metadata": {
    "colab": {
      "name": "3d_cnn.ipynb",
      "provenance": [],
      "collapsed_sections": []
    },
    "kernelspec": {
      "name": "python3",
      "display_name": "Python 3"
    },
    "accelerator": "GPU"
  },
  "cells": [
    {
      "cell_type": "markdown",
      "metadata": {
        "id": "V5pR8eC3qRvg",
        "colab_type": "text"
      },
      "source": [
        ""
      ]
    },
    {
      "cell_type": "code",
      "metadata": {
        "id": "coucsDC8pKOh",
        "colab_type": "code",
        "outputId": "2236e7e8-d71c-401d-ea69-157c94683ed6",
        "colab": {
          "base_uri": "https://localhost:8080/",
          "height": 124
        }
      },
      "source": [
        "!git clone https://github.com/Daisybiubiubiu/EEG-Emotion-Recognition.git\n"
      ],
      "execution_count": 1,
      "outputs": [
        {
          "output_type": "stream",
          "text": [
            "Cloning into 'EEG-Emotion-Recognition'...\n",
            "remote: Enumerating objects: 3877, done.\u001b[K\n",
            "remote: Total 3877 (delta 0), reused 0 (delta 0), pack-reused 3877\n",
            "Receiving objects: 100% (3877/3877), 308.93 MiB | 24.32 MiB/s, done.\n",
            "Resolving deltas: 100% (8/8), done.\n",
            "Checking out files: 100% (2566/2566), done.\n"
          ],
          "name": "stdout"
        }
      ]
    },
    {
      "cell_type": "code",
      "metadata": {
        "id": "TT2jjd2WpkyM",
        "colab_type": "code",
        "colab": {}
      },
      "source": [
        "#!ls -R"
      ],
      "execution_count": 0,
      "outputs": []
    },
    {
      "cell_type": "code",
      "metadata": {
        "id": "YdrtYjonppuq",
        "colab_type": "code",
        "colab": {}
      },
      "source": [
        "#!cd ./EEG-Emotion-Recognition  "
      ],
      "execution_count": 0,
      "outputs": []
    },
    {
      "cell_type": "code",
      "metadata": {
        "id": "bgbkZzkJSozW",
        "colab_type": "code",
        "colab": {}
      },
      "source": [
        "#!ls"
      ],
      "execution_count": 0,
      "outputs": []
    },
    {
      "cell_type": "code",
      "metadata": {
        "id": "vbhLL1q6p25J",
        "colab_type": "code",
        "colab": {}
      },
      "source": [
        "import pandas as pd\n",
        "import numpy as np\n",
        "import matplotlib.pyplot as plt\n",
        "import torch\n",
        "from torch import nn\n",
        "from torch import optim\n",
        "import torch.nn.functional as F\n",
        "from torch.utils.data import TensorDataset\n",
        "from torch.utils.data import DataLoader\n",
        "import time\n",
        "\n",
        "from sklearn.metrics import accuracy_score\n",
        "from sklearn.model_selection import train_test_split\n"
      ],
      "execution_count": 0,
      "outputs": []
    },
    {
      "cell_type": "code",
      "metadata": {
        "id": "EGhlbcRctOcA",
        "colab_type": "code",
        "outputId": "d924f482-1ef8-4ba2-cfc3-4063967a8917",
        "colab": {
          "base_uri": "https://localhost:8080/",
          "height": 52
        }
      },
      "source": [
        "# load data\n",
        "frameNum = 30\n",
        "dfs = []\n",
        "for i in range(1,33):\n",
        "  for j in range(1,41):\n",
        "    filename = './EEG-Emotion-Recognition/CWT/File_30frame_exscale/participant%dvideo%d.txt'%(i,j)\n",
        "    cols = [i for i in range(frameNum)]\n",
        "    df = pd.read_csv(filename, header = None, usecols = cols, delimiter=',')   \n",
        "    dfs.append(df.values)\n",
        "    #print('participant%dvideo%d.txt'%(i,j))\n",
        "\n",
        "dfs = np.array(dfs)\n",
        "print('dataLoaded:')\n",
        "print(dfs.shape)"
      ],
      "execution_count": 6,
      "outputs": [
        {
          "output_type": "stream",
          "text": [
            "dataLoaded:\n",
            "(1280, 1024, 30)\n"
          ],
          "name": "stdout"
        }
      ]
    },
    {
      "cell_type": "code",
      "metadata": {
        "id": "NCcVWMpLd_yX",
        "colab_type": "code",
        "colab": {}
      },
      "source": [
        "# normalize\n",
        "x_min = dfs.min(axis = (1,2),keepdims=True)\n",
        "x_max = dfs.max(axis = (1,2),keepdims=True)\n",
        "dfs_normal = (dfs-x_min)/(x_max-x_min)\n"
      ],
      "execution_count": 0,
      "outputs": []
    },
    {
      "cell_type": "code",
      "metadata": {
        "id": "383y2IXneNRI",
        "colab_type": "code",
        "outputId": "3adb354e-829e-4cd4-adff-5940f4482de9",
        "colab": {
          "base_uri": "https://localhost:8080/",
          "height": 35
        }
      },
      "source": [
        "# load label\n",
        "cols = ['valence', 'arousal', 'dominance', 'liking']\n",
        "label_df = pd.read_csv('./EEG-Emotion-Recognition/CWT/label.txt',\n",
        "    usecols = [i for i in range(4)], header=None, delimiter=',' )\n",
        "print(label_df.shape)\n",
        "label_df.columns = cols\n",
        "label_df[label_df<5] = 0\n",
        "label_df[label_df>=5] = 1\n"
      ],
      "execution_count": 8,
      "outputs": [
        {
          "output_type": "stream",
          "text": [
            "(1280, 4)\n"
          ],
          "name": "stdout"
        }
      ]
    },
    {
      "cell_type": "code",
      "metadata": {
        "id": "hjwXV-gLeWSd",
        "colab_type": "code",
        "outputId": "168484c0-e600-4bd7-9ea4-a5abda4279d2",
        "colab": {
          "base_uri": "https://localhost:8080/",
          "height": 35
        }
      },
      "source": [
        "# valence\n",
        "label = label_df['valence'].values\n",
        "print(label.size)\n"
      ],
      "execution_count": 9,
      "outputs": [
        {
          "output_type": "stream",
          "text": [
            "1280\n"
          ],
          "name": "stdout"
        }
      ]
    },
    {
      "cell_type": "code",
      "metadata": {
        "id": "QZNPs6-IeZlx",
        "colab_type": "code",
        "outputId": "932f2fa7-4048-4a91-c856-1097549d8967",
        "colab": {
          "base_uri": "https://localhost:8080/",
          "height": 35
        }
      },
      "source": [
        "# divive train & test\n",
        "x_train, x_test, y_train, y_test = train_test_split(dfs_normal, label, test_size=0.2, random_state=1)\n",
        "\n",
        "x_train = torch.from_numpy(x_train).float()\n",
        "y_train = torch.from_numpy(y_train).long()\n",
        "x_test = torch.from_numpy(x_test).float()\n",
        "y_test = torch.from_numpy(y_test).long()\n",
        "\n",
        "n = x_train.shape[0]\n",
        "print(n)"
      ],
      "execution_count": 10,
      "outputs": [
        {
          "output_type": "stream",
          "text": [
            "1024\n"
          ],
          "name": "stdout"
        }
      ]
    },
    {
      "cell_type": "code",
      "metadata": {
        "id": "7xFwg4dAgAHL",
        "colab_type": "code",
        "colab": {}
      },
      "source": [
        "class cnn_classifier(nn.Module):\n",
        "  def __init__(self):\n",
        "    super().__init__()\n",
        "    self.conv11 = nn.Conv3d(in_channels=1, out_channels=32, kernel_size=3, stride=1, padding=1)\n",
        "    self.conv12 = nn.Conv3d(in_channels=32, out_channels=32, kernel_size=3, stride=1, padding=1)\n",
        "    self.pool1 = nn.MaxPool3d(kernel_size=2, padding=0)\n",
        "    \n",
        "    self.conv21 = nn.Conv3d(in_channels=32, out_channels=64, kernel_size=3, stride=1, padding=1)\n",
        "    self.conv22 = nn.Conv3d(in_channels=64, out_channels=64, kernel_size=3, stride=1, padding=1)\n",
        "    self.pool2 = nn.MaxPool3d(kernel_size=2, padding=(0,0,1))\n",
        "    \n",
        "    self.conv31 = nn.Conv3d(in_channels=64, out_channels=128, kernel_size=3, stride=1, padding=1)\n",
        "    self.conv32 = nn.Conv3d(in_channels=128, out_channels=128, kernel_size=3, stride=1, padding=1)\n",
        "    self.pool3 = nn.MaxPool3d(kernel_size=2, padding=0)\n",
        "    \n",
        "\n",
        "    self.fc_layer = nn.Linear(128*4*4*4, 2)\n",
        "    \n",
        "    self.dropout_layer = nn.Dropout(p=0.5)\n",
        "\n",
        "  def forward(self, xb):\n",
        "    h1 = self.conv11(xb)\n",
        "    h1 = self.conv12(h1)\n",
        "    h1 = self.dropout_layer(h1)\n",
        "    h1 = self.pool1(h1)\n",
        "    h1 = F.relu(h1)\n",
        "\n",
        "    h2 = self.conv21(h1)\n",
        "    h2 = self.conv22(h2)\n",
        "    h2 = self.dropout_layer(h2)\n",
        "    h2 = self.pool2(h2)\n",
        "    h2 = F.relu(h2) \n",
        "\n",
        "    h3 = self.conv31(h2)\n",
        "    h3 = self.conv32(h3)\n",
        "    #]h3 = self.dropout_layer(h3)\n",
        "    h3 = self.pool3(h3)\n",
        "    h3 = F.relu(h3) \n",
        "    \n",
        "    # flatten the output from conv layers before feeind it to FC layer\n",
        "    flatten = h3.view(-1, 128*4*4*4)\n",
        "    out = self.fc_layer(flatten)    \n",
        "    return out\n"
      ],
      "execution_count": 0,
      "outputs": []
    },
    {
      "cell_type": "code",
      "metadata": {
        "id": "UN2Vsg0XgBJ2",
        "colab_type": "code",
        "colab": {}
      },
      "source": [
        "def train_model(model, x_train, y_train, x_test, y_test, epochs=50 , batch_size=32, lr=0.0001, weight_decay=0):\n",
        "  # data\n",
        "  train_dataset = TensorDataset(x_train, y_train)\n",
        "  train_data_loader = DataLoader(train_dataset, batch_size=batch_size)\n",
        "\n",
        "  # loss function\n",
        "  loss_func = F.cross_entropy\n",
        "\n",
        "  # optimizer\n",
        "  #optimizer = optim.SGD(model.parameters(), lr=lr, weight_decay=weight_decay)\n",
        "  optimizer = optim.Adam(model.parameters(), lr=lr, weight_decay=weight_decay)\n",
        "\n",
        "  # figure\n",
        "  train_a = list([])\n",
        "  test_a = list([])\n",
        "\n",
        "  # training loop\n",
        "  for epoch in range(epochs):\n",
        "    model.train()\n",
        "    tic = time.time()\n",
        "    acc_train = []\n",
        "    for xb, yb in train_data_loader:    \n",
        "      xb, yb = xb.to(device), yb.to(device)\n",
        "      pred = model(xb)\n",
        "      loss = loss_func(pred, yb)\n",
        "      \n",
        "      optimizer.zero_grad()\n",
        "      loss.backward()\n",
        "      optimizer.step()\n",
        "      acc_train.append(pred.detach().argmax(1).eq(yb).float().mean().cpu().numpy())\n",
        "    acc_train = np.mean(acc_train)\n",
        "    toc = time.time()\n",
        "    \n",
        "    with torch.no_grad():\n",
        "      model.eval()\n",
        "      y_pred = model(x_test.to(device))\n",
        "      acc = y_pred.argmax(1).eq(y_test.to(device)).float().mean().cpu().numpy()\n",
        "\n",
        "    train_a.append(acc_train)\n",
        "    test_a.append(acc)\n",
        "    print('Loss at epoch %d : %f, train_acc: %f, test_acc: %f, running time: %d'% (epoch, loss.item(), acc_train, acc, toc-tic))\n",
        "\n",
        "  # draw an accuray figure\n",
        "  plt.plot(train_a,'y.-.')\n",
        "  plt.plot(test_a,'.-.')\n",
        "  plt.xlabel('epoch')\n",
        "  plt.ylabel('accuracy')\n"
      ],
      "execution_count": 0,
      "outputs": []
    },
    {
      "cell_type": "code",
      "metadata": {
        "id": "qPejyQYagI9Y",
        "colab_type": "code",
        "outputId": "a9e2cb4f-5c75-4353-895b-42633dcfa975",
        "colab": {
          "base_uri": "https://localhost:8080/",
          "height": 1000
        }
      },
      "source": [
        "model = cnn_classifier()\n",
        "device = 'cuda' if torch.cuda.is_available() else 'cpu'\n",
        "model = model.to(device)\n",
        "train_model(model, x_train.view(-1, 1, 32, 32, frameNum), y_train, x_test.view(-1, 1, 32, 32, frameNum), y_test)"
      ],
      "execution_count": 13,
      "outputs": [
        {
          "output_type": "stream",
          "text": [
            "Loss at epoch 0 : 0.714294, train_acc: 0.570312, test_acc: 0.546875, running time: 6\n",
            "Loss at epoch 1 : 0.711559, train_acc: 0.570312, test_acc: 0.546875, running time: 6\n",
            "Loss at epoch 2 : 0.708031, train_acc: 0.570312, test_acc: 0.546875, running time: 6\n",
            "Loss at epoch 3 : 0.706613, train_acc: 0.564453, test_acc: 0.546875, running time: 6\n",
            "Loss at epoch 4 : 0.699232, train_acc: 0.570312, test_acc: 0.546875, running time: 6\n",
            "Loss at epoch 5 : 0.700139, train_acc: 0.571289, test_acc: 0.546875, running time: 6\n",
            "Loss at epoch 6 : 0.688026, train_acc: 0.575195, test_acc: 0.546875, running time: 6\n",
            "Loss at epoch 7 : 0.691549, train_acc: 0.580078, test_acc: 0.554688, running time: 6\n",
            "Loss at epoch 8 : 0.657757, train_acc: 0.609375, test_acc: 0.574219, running time: 6\n",
            "Loss at epoch 9 : 0.637598, train_acc: 0.634766, test_acc: 0.582031, running time: 6\n",
            "Loss at epoch 10 : 0.644754, train_acc: 0.659180, test_acc: 0.566406, running time: 6\n",
            "Loss at epoch 11 : 0.589231, train_acc: 0.681641, test_acc: 0.613281, running time: 6\n",
            "Loss at epoch 12 : 0.553957, train_acc: 0.686523, test_acc: 0.625000, running time: 6\n",
            "Loss at epoch 13 : 0.550638, train_acc: 0.712891, test_acc: 0.621094, running time: 6\n",
            "Loss at epoch 14 : 0.523306, train_acc: 0.741211, test_acc: 0.613281, running time: 6\n",
            "Loss at epoch 15 : 0.576023, train_acc: 0.766602, test_acc: 0.601562, running time: 6\n",
            "Loss at epoch 16 : 0.501464, train_acc: 0.775391, test_acc: 0.605469, running time: 6\n",
            "Loss at epoch 17 : 0.506774, train_acc: 0.790039, test_acc: 0.585938, running time: 6\n",
            "Loss at epoch 18 : 0.379619, train_acc: 0.815430, test_acc: 0.617188, running time: 6\n",
            "Loss at epoch 19 : 0.471823, train_acc: 0.837891, test_acc: 0.601562, running time: 6\n",
            "Loss at epoch 20 : 0.325726, train_acc: 0.862305, test_acc: 0.640625, running time: 6\n",
            "Loss at epoch 21 : 0.301534, train_acc: 0.871094, test_acc: 0.636719, running time: 6\n",
            "Loss at epoch 22 : 0.310061, train_acc: 0.878906, test_acc: 0.617188, running time: 6\n",
            "Loss at epoch 23 : 0.222749, train_acc: 0.887695, test_acc: 0.554688, running time: 6\n",
            "Loss at epoch 24 : 0.315675, train_acc: 0.882812, test_acc: 0.585938, running time: 6\n",
            "Loss at epoch 25 : 0.093438, train_acc: 0.903320, test_acc: 0.582031, running time: 6\n",
            "Loss at epoch 26 : 0.115390, train_acc: 0.912109, test_acc: 0.589844, running time: 6\n",
            "Loss at epoch 27 : 0.226332, train_acc: 0.908203, test_acc: 0.617188, running time: 6\n",
            "Loss at epoch 28 : 0.229250, train_acc: 0.916016, test_acc: 0.632812, running time: 6\n",
            "Loss at epoch 29 : 0.172875, train_acc: 0.940430, test_acc: 0.636719, running time: 6\n",
            "Loss at epoch 30 : 0.039443, train_acc: 0.951172, test_acc: 0.628906, running time: 6\n",
            "Loss at epoch 31 : 0.124774, train_acc: 0.958008, test_acc: 0.628906, running time: 6\n",
            "Loss at epoch 32 : 0.028188, train_acc: 0.976562, test_acc: 0.628906, running time: 6\n",
            "Loss at epoch 33 : 0.074515, train_acc: 0.972656, test_acc: 0.644531, running time: 6\n",
            "Loss at epoch 34 : 0.071460, train_acc: 0.972656, test_acc: 0.644531, running time: 6\n",
            "Loss at epoch 35 : 0.046693, train_acc: 0.979492, test_acc: 0.613281, running time: 6\n",
            "Loss at epoch 36 : 0.218198, train_acc: 0.973633, test_acc: 0.605469, running time: 6\n",
            "Loss at epoch 37 : 0.022672, train_acc: 0.973633, test_acc: 0.656250, running time: 6\n",
            "Loss at epoch 38 : 0.026178, train_acc: 0.981445, test_acc: 0.625000, running time: 6\n",
            "Loss at epoch 39 : 0.073583, train_acc: 0.980469, test_acc: 0.640625, running time: 6\n",
            "Loss at epoch 40 : 0.008969, train_acc: 0.989258, test_acc: 0.628906, running time: 6\n",
            "Loss at epoch 41 : 0.019039, train_acc: 0.985352, test_acc: 0.632812, running time: 6\n",
            "Loss at epoch 42 : 0.003833, train_acc: 0.993164, test_acc: 0.621094, running time: 6\n",
            "Loss at epoch 43 : 0.046756, train_acc: 0.989258, test_acc: 0.640625, running time: 6\n",
            "Loss at epoch 44 : 0.020957, train_acc: 0.985352, test_acc: 0.617188, running time: 6\n",
            "Loss at epoch 45 : 0.011924, train_acc: 0.989258, test_acc: 0.609375, running time: 6\n",
            "Loss at epoch 46 : 0.007629, train_acc: 0.983398, test_acc: 0.625000, running time: 6\n",
            "Loss at epoch 47 : 0.006107, train_acc: 0.985352, test_acc: 0.613281, running time: 6\n",
            "Loss at epoch 48 : 0.035698, train_acc: 0.984375, test_acc: 0.640625, running time: 6\n",
            "Loss at epoch 49 : 0.067473, train_acc: 0.990234, test_acc: 0.660156, running time: 6\n"
          ],
          "name": "stdout"
        },
        {
          "output_type": "display_data",
          "data": {
            "image/png": "[encoded data removed]",
            "text/plain": [
              "<Figure size 432x288 with 1 Axes>"
            ]
          },
          "metadata": {
            "tags": []
          }
        }
      ]
    },
    {
      "cell_type": "code",
      "metadata": {
        "id": "zyf0fFy5b7MX",
        "colab_type": "code",
        "colab": {}
      },
      "source": [
        ""
      ],
      "execution_count": 0,
      "outputs": []
    }
  ]
}