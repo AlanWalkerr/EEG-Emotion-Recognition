{
  "nbformat": 4,
  "nbformat_minor": 0,
  "metadata": {
    "colab": {
      "name": "3d_cnn.ipynb",
      "provenance": [],
      "collapsed_sections": []
    },
    "kernelspec": {
      "name": "python3",
      "display_name": "Python 3"
    },
    "accelerator": "GPU"
  },
  "cells": [
    {
      "cell_type": "markdown",
      "metadata": {
        "id": "V5pR8eC3qRvg",
        "colab_type": "text"
      },
      "source": [
        ""
      ]
    },
    {
      "cell_type": "code",
      "metadata": {
        "id": "coucsDC8pKOh",
        "colab_type": "code",
        "outputId": "1431e10a-c546-41f8-dfce-ad608cf2bbde",
        "colab": {
          "base_uri": "https://localhost:8080/",
          "height": 35
        }
      },
      "source": [
        "!git clone https://github.com/Daisybiubiubiu/EEG-Emotion-Recognition.git\n"
      ],
      "execution_count": 15,
      "outputs": [
        {
          "output_type": "stream",
          "text": [
            "fatal: destination path 'EEG-Emotion-Recognition' already exists and is not an empty directory.\n"
          ],
          "name": "stdout"
        }
      ]
    },
    {
      "cell_type": "code",
      "metadata": {
        "id": "TT2jjd2WpkyM",
        "colab_type": "code",
        "colab": {}
      },
      "source": [
        "!ls -R"
      ],
      "execution_count": 0,
      "outputs": []
    },
    {
      "cell_type": "code",
      "metadata": {
        "id": "YdrtYjonppuq",
        "colab_type": "code",
        "colab": {}
      },
      "source": [
        "#!cd ./EEG-Emotion-Recognition  "
      ],
      "execution_count": 0,
      "outputs": []
    },
    {
      "cell_type": "code",
      "metadata": {
        "id": "bgbkZzkJSozW",
        "colab_type": "code",
        "colab": {}
      },
      "source": [
        "#!ls"
      ],
      "execution_count": 0,
      "outputs": []
    },
    {
      "cell_type": "code",
      "metadata": {
        "id": "vbhLL1q6p25J",
        "colab_type": "code",
        "colab": {}
      },
      "source": [
        "import pandas as pd\n",
        "import numpy as np\n",
        "import matplotlib.pyplot as plt\n",
        "import torch\n",
        "from torch import nn\n",
        "from torch import optim\n",
        "import torch.nn.functional as F\n",
        "from torch.utils.data import TensorDataset\n",
        "from torch.utils.data import DataLoader\n",
        "import time\n",
        "\n",
        "from sklearn.metrics import accuracy_score\n",
        "from sklearn.model_selection import train_test_split\n"
      ],
      "execution_count": 0,
      "outputs": []
    },
    {
      "cell_type": "code",
      "metadata": {
        "id": "EGhlbcRctOcA",
        "colab_type": "code",
        "outputId": "0bef3357-0444-446f-bd2c-d351c7c07e16",
        "colab": {
          "base_uri": "https://localhost:8080/",
          "height": 52
        }
      },
      "source": [
        "# load data\n",
        "dfs = []\n",
        "for i in range(1,33):\n",
        "  for j in range(1,41):\n",
        "    filename = './EEG-Emotion-Recognition/CWT/File_10frame_exscale/participant%dvideo%d.txt'%(i,j)\n",
        "    cols = [i for i in range(10)]\n",
        "    df = pd.read_csv(filename, header = None, usecols = cols, delimiter=',')   \n",
        "    dfs.append(df.values)\n",
        "    #print('participant%dvideo%d.txt'%(i,j))\n",
        "\n",
        "dfs = np.array(dfs)\n",
        "print('dataLoaded:')\n",
        "print(dfs.shape)"
      ],
      "execution_count": 0,
      "outputs": [
        {
          "output_type": "stream",
          "text": [
            "dataLoaded:\n",
            "(1280, 1024, 10)\n"
          ],
          "name": "stdout"
        }
      ]
    },
    {
      "cell_type": "code",
      "metadata": {
        "id": "NCcVWMpLd_yX",
        "colab_type": "code",
        "colab": {}
      },
      "source": [
        "# normalize\n",
        "x_min = dfs.min(axis = (1,2),keepdims=True)\n",
        "x_max = dfs.max(axis = (1,2),keepdims=True)\n",
        "dfs_normal = (dfs-x_min)/(x_max-x_min)\n"
      ],
      "execution_count": 0,
      "outputs": []
    },
    {
      "cell_type": "code",
      "metadata": {
        "id": "383y2IXneNRI",
        "colab_type": "code",
        "outputId": "fa863f26-7568-4907-e764-f7d2df576d40",
        "colab": {
          "base_uri": "https://localhost:8080/",
          "height": 35
        }
      },
      "source": [
        "# load label\n",
        "cols = ['valence', 'arousal', 'dominance', 'liking']\n",
        "label_df = pd.read_csv('./EEG-Emotion-Recognition/CWT/label.txt',\n",
        "    usecols = [i for i in range(4)], header=None, delimiter=',' )\n",
        "print(label_df.shape)\n",
        "label_df.columns = cols\n",
        "label_df[label_df<5] = 0\n",
        "label_df[label_df>=5] = 1\n"
      ],
      "execution_count": 0,
      "outputs": [
        {
          "output_type": "stream",
          "text": [
            "(1280, 4)\n"
          ],
          "name": "stdout"
        }
      ]
    },
    {
      "cell_type": "code",
      "metadata": {
        "id": "hjwXV-gLeWSd",
        "colab_type": "code",
        "outputId": "9c5715e7-0e64-4552-d21b-92d85d4edd33",
        "colab": {
          "base_uri": "https://localhost:8080/",
          "height": 35
        }
      },
      "source": [
        "# valence\n",
        "label = label_df['valence'].values\n",
        "print(label.size)\n"
      ],
      "execution_count": 0,
      "outputs": [
        {
          "output_type": "stream",
          "text": [
            "1280\n"
          ],
          "name": "stdout"
        }
      ]
    },
    {
      "cell_type": "code",
      "metadata": {
        "id": "QZNPs6-IeZlx",
        "colab_type": "code",
        "outputId": "8de6ffb2-a7af-496a-9659-fcc455efbdab",
        "colab": {
          "base_uri": "https://localhost:8080/",
          "height": 35
        }
      },
      "source": [
        "# divive train & test\n",
        "x_train, x_test, y_train, y_test = train_test_split(\n",
        "  dfs_normal, label, test_size=0.2, random_state=1)\n",
        "\n",
        "x_train = torch.from_numpy(x_train).float()\n",
        "y_train = torch.from_numpy(y_train).long()\n",
        "x_test = torch.from_numpy(x_test).float()\n",
        "y_test = torch.from_numpy(y_test).long()\n",
        "\n",
        "n = x_train.shape[0]\n",
        "print(n)"
      ],
      "execution_count": 0,
      "outputs": [
        {
          "output_type": "stream",
          "text": [
            "1024\n"
          ],
          "name": "stdout"
        }
      ]
    },
    {
      "cell_type": "code",
      "metadata": {
        "id": "7xFwg4dAgAHL",
        "colab_type": "code",
        "colab": {}
      },
      "source": [
        "class cnn_classifier(nn.Module):\n",
        "  def __init__(self):\n",
        "    super().__init__()\n",
        "    self.conv11 = nn.Conv3d(in_channels=1, out_channels=16, kernel_size=3, stride=1, padding=1)\n",
        "    self.conv12 = nn.Conv3d(in_channels=16, out_channels=16, kernel_size=3, stride=1, padding=1)\n",
        "    self.pool1 = nn.MaxPool3d(kernel_size=2, padding=0)\n",
        "    \n",
        "    self.conv21 = nn.Conv3d(in_channels=16, out_channels=32, kernel_size=3, stride=1, padding=1)\n",
        "    self.conv22 = nn.Conv3d(in_channels=32, out_channels=32, kernel_size=3, stride=1, padding=1)\n",
        "    self.pool2 = nn.MaxPool3d(kernel_size=2, padding=(0,0,1))\n",
        "    \n",
        "    self.conv31 = nn.Conv3d(in_channels=32, out_channels=64, kernel_size=3, stride=1, padding=1)\n",
        "    self.conv32 = nn.Conv3d(in_channels=64, out_channels=64, kernel_size=3, stride=1, padding=1)\n",
        "    self.pool3 = nn.MaxPool3d(kernel_size=2, padding=0)\n",
        "    \n",
        "\n",
        "    self.fc_layer = nn.Linear(64*4*4*1, 2)\n",
        "    \n",
        "    self.dropout_layer = nn.Dropout(p=0.5)\n",
        "\n",
        "  def forward(self, xb):\n",
        "    h1 = self.conv11(xb)\n",
        "    h1 = self.conv12(h1)\n",
        "    #h1 = self.dropout_layer(h1)\n",
        "    h1 = self.pool1(h1)\n",
        "    h1 = F.relu(h1)\n",
        "\n",
        "    h2 = self.conv21(h1)\n",
        "    h2 = self.conv22(h2)\n",
        "    #h2 = self.dropout_layer(h2)\n",
        "    h2 = self.pool2(h2)\n",
        "    h2 = F.relu(h2) \n",
        "\n",
        "    h3 = self.conv31(h2)\n",
        "    h3 = self.conv32(h3)\n",
        "    #h3 = self.dropout_layer(h3)\n",
        "    h3 = self.pool3(h3)\n",
        "    h3 = F.relu(h3) \n",
        "    \n",
        "    # flatten the output from conv layers before feeind it to FC layer\n",
        "    flatten = h3.view(-1, 64*4*4*1)\n",
        "    out = self.fc_layer(flatten)    \n",
        "    return out\n"
      ],
      "execution_count": 0,
      "outputs": []
    },
    {
      "cell_type": "code",
      "metadata": {
        "id": "UN2Vsg0XgBJ2",
        "colab_type": "code",
        "colab": {}
      },
      "source": [
        "def train_model(model, x_train, y_train, x_test, y_test, epochs=30 , batch_size=32, lr=0.002, weight_decay=0):\n",
        "    # data\n",
        "  train_dataset = TensorDataset(x_train, y_train)\n",
        "  train_data_loader = DataLoader(train_dataset, batch_size=batch_size)\n",
        "\n",
        "  # loss function\n",
        "  loss_func = F.cross_entropy\n",
        "\n",
        "  # optimizer\n",
        "  optimizer = optim.SGD(model.parameters(), lr=lr, weight_decay=weight_decay)\n",
        "  #optimizer = optim.Adam(model.parameters(), lr=lr, weight_decay=weight_decay)\n",
        "\n",
        "  # figure\n",
        "  train_a = list([])\n",
        "  test_a = list([])\n",
        "\n",
        "  # training loop\n",
        "  for epoch in range(epochs):\n",
        "    model.train()\n",
        "    tic = time.time()\n",
        "    acc_train = []\n",
        "    for xb, yb in train_data_loader:    \n",
        "      xb, yb = xb.to(device), yb.to(device)\n",
        "      pred = model(xb)\n",
        "      loss = loss_func(pred, yb)\n",
        "      \n",
        "      optimizer.zero_grad()\n",
        "      loss.backward()\n",
        "      optimizer.step()\n",
        "      acc_train.append(pred.detach().argmax(1).eq(yb).float().mean().cpu().numpy())\n",
        "    acc_train = np.mean(acc_train)\n",
        "    toc = time.time()\n",
        "    \n",
        "    with torch.no_grad():\n",
        "      model.eval()\n",
        "      y_pred = model(x_test.to(device))\n",
        "      acc = y_pred.argmax(1).eq(y_test.to(device)).float().mean().cpu().numpy()\n",
        "\n",
        "    train_a.append(acc_train)\n",
        "    test_a.append(acc)\n",
        "    print('Loss at epoch %d : %f, train_acc: %f, test_acc: %f, running time: %d'% (epoch, loss.item(), acc_train, acc, toc-tic))\n",
        "\n",
        "  # draw an accuray figure\n",
        "  plt.plot(train_a,'y.-.')\n",
        "  plt.plot(test_a,'.-.')\n",
        "  plt.xlabel('epoch')\n",
        "  plt.ylabel('accuracy')\n"
      ],
      "execution_count": 0,
      "outputs": []
    },
    {
      "cell_type": "code",
      "metadata": {
        "id": "qPejyQYagI9Y",
        "colab_type": "code",
        "outputId": "a18931b5-f530-4800-db04-34b6b86ad227",
        "colab": {
          "base_uri": "https://localhost:8080/",
          "height": 812
        }
      },
      "source": [
        "model = cnn_classifier()\n",
        "device = 'cuda' if torch.cuda.is_available() else 'cpu'\n",
        "model = model.to(device)\n",
        "train_model(model, x_train.view(-1, 1, 32, 32, 10), y_train, x_test.view(-1, 1, 32, 32, 10), y_test)"
      ],
      "execution_count": 0,
      "outputs": [
        {
          "output_type": "stream",
          "text": [
            "Loss at epoch 0 : 0.692524, train_acc: 0.429688, test_acc: 0.453125, running time: 1\n",
            "Loss at epoch 1 : 0.693075, train_acc: 0.428711, test_acc: 0.484375, running time: 1\n",
            "Loss at epoch 2 : 0.693688, train_acc: 0.558594, test_acc: 0.546875, running time: 1\n",
            "Loss at epoch 3 : 0.694345, train_acc: 0.570312, test_acc: 0.546875, running time: 1\n",
            "Loss at epoch 4 : 0.695037, train_acc: 0.570312, test_acc: 0.546875, running time: 1\n",
            "Loss at epoch 5 : 0.695759, train_acc: 0.570312, test_acc: 0.546875, running time: 1\n",
            "Loss at epoch 6 : 0.696501, train_acc: 0.570312, test_acc: 0.546875, running time: 1\n",
            "Loss at epoch 7 : 0.697260, train_acc: 0.570312, test_acc: 0.546875, running time: 1\n",
            "Loss at epoch 8 : 0.698028, train_acc: 0.570312, test_acc: 0.546875, running time: 1\n",
            "Loss at epoch 9 : 0.698801, train_acc: 0.570312, test_acc: 0.546875, running time: 1\n",
            "Loss at epoch 10 : 0.699570, train_acc: 0.570312, test_acc: 0.546875, running time: 1\n",
            "Loss at epoch 11 : 0.700333, train_acc: 0.570312, test_acc: 0.546875, running time: 1\n",
            "Loss at epoch 12 : 0.701083, train_acc: 0.570312, test_acc: 0.546875, running time: 1\n",
            "Loss at epoch 13 : 0.701818, train_acc: 0.570312, test_acc: 0.546875, running time: 1\n",
            "Loss at epoch 14 : 0.702531, train_acc: 0.570312, test_acc: 0.546875, running time: 1\n",
            "Loss at epoch 15 : 0.703217, train_acc: 0.570312, test_acc: 0.546875, running time: 1\n",
            "Loss at epoch 16 : 0.703872, train_acc: 0.570312, test_acc: 0.546875, running time: 1\n",
            "Loss at epoch 17 : 0.704497, train_acc: 0.570312, test_acc: 0.546875, running time: 1\n",
            "Loss at epoch 18 : 0.705089, train_acc: 0.570312, test_acc: 0.546875, running time: 1\n",
            "Loss at epoch 19 : 0.705647, train_acc: 0.570312, test_acc: 0.546875, running time: 1\n",
            "Loss at epoch 20 : 0.706173, train_acc: 0.570312, test_acc: 0.546875, running time: 1\n",
            "Loss at epoch 21 : 0.706664, train_acc: 0.570312, test_acc: 0.546875, running time: 1\n",
            "Loss at epoch 22 : 0.707124, train_acc: 0.570312, test_acc: 0.546875, running time: 1\n",
            "Loss at epoch 23 : 0.707551, train_acc: 0.570312, test_acc: 0.546875, running time: 1\n",
            "Loss at epoch 24 : 0.707947, train_acc: 0.570312, test_acc: 0.546875, running time: 1\n",
            "Loss at epoch 25 : 0.708312, train_acc: 0.570312, test_acc: 0.546875, running time: 1\n",
            "Loss at epoch 26 : 0.708647, train_acc: 0.570312, test_acc: 0.546875, running time: 1\n",
            "Loss at epoch 27 : 0.708953, train_acc: 0.570312, test_acc: 0.546875, running time: 1\n",
            "Loss at epoch 28 : 0.709233, train_acc: 0.570312, test_acc: 0.546875, running time: 1\n",
            "Loss at epoch 29 : 0.709488, train_acc: 0.570312, test_acc: 0.546875, running time: 1\n"
          ],
          "name": "stdout"
        },
        {
          "output_type": "display_data",
          "data": {
            "image/png": "[encoded data removed]",
            "text/plain": [
              "<Figure size 432x288 with 1 Axes>"
            ]
          },
          "metadata": {
            "tags": []
          }
        }
      ]
    }
  ]
}